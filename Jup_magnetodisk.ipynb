{
 "cells": [
  {
   "cell_type": "code",
   "execution_count": 1,
   "metadata": {},
   "outputs": [],
   "source": [
    "import numpy as np\n",
    "import pandas as pd\n",
    "\n",
    "from math import *\n",
    "from scipy.special import lpmn\n",
    "# from scipy.special import legendre\n",
    "\n",
    "# import seaborn as sns\n",
    "# import matplotlib.pyplot as plt\n",
    "# %matplotlib inline"
   ]
  },
  {
   "cell_type": "markdown",
   "metadata": {},
   "source": [
    "## Input"
   ]
  },
  {
   "cell_type": "code",
   "execution_count": 2,
   "metadata": {},
   "outputs": [],
   "source": [
    "# Jupiter dipole parameters\n",
    "\n",
    "R0 = 7.1492e7 #m, Jupiter radius\n",
    "b_eq = -4.2e5 #nT, field on planet equator"
   ]
  },
  {
   "cell_type": "code",
   "execution_count": 3,
   "metadata": {},
   "outputs": [],
   "source": [
    "# Magnetodisk parameters\n",
    "\n",
    "kmax = 20 # 20\n",
    "pwr = 2 # 1/r^pwr magnetodisk, pwr=2 for [Alexeev and Belenkaya, 2005]\n",
    "BDC = 2.5e-9 # 2.5e-9, magnetic field on edge RD1\n",
    "RD2 = 18.4 # 18.4, disk inner edge\n",
    "RD1 = 92.07 # 92.07, disk outer edge"
   ]
  },
  {
   "cell_type": "code",
   "execution_count": 4,
   "metadata": {},
   "outputs": [],
   "source": [
    "sign_correction = 1"
   ]
  },
  {
   "cell_type": "markdown",
   "metadata": {},
   "source": [
    "## Calculation"
   ]
  },
  {
   "cell_type": "markdown",
   "metadata": {},
   "source": [
    "### Dipole field"
   ]
  },
  {
   "cell_type": "code",
   "execution_count": 5,
   "metadata": {
    "scrolled": true
   },
   "outputs": [],
   "source": [
    "def dip_field(r, R0, b_eq):\n",
    "    # Planet dipole field calculation\n",
    "    # INPUT:\n",
    "    #   r [R0] - 1D-vector, length=3: (x,y,z)-coordinates of point in space\n",
    "    #   R0 [m] - scalar: planet radius\n",
    "    #   b_eq [nT] - scalar: magnetic on planet equator\n",
    "    # OUTPUT:\n",
    "    #   B [T] - 1D-vector, length=3: magnetic field\n",
    "    \n",
    "    r = R0 * np.array(r)\n",
    "    M0 = -0.01 * b_eq * R0**3 # planet dipole magnetic moment (SI units, A*m^2)\n",
    "    Mcoef = 1e-7 * M0;\n",
    "    rr = sqrt(r[0] * r[0] + r[1] * r[1] + r[2] * r[2])\n",
    "    Bx = 3 * Mcoef * r[0] * r[2] / rr**5\n",
    "    By = 3 * Mcoef * r[1] * r[2] / rr**5\n",
    "    Bz = Mcoef * (3 * r[2] * r[2] - rr**2) / rr**5\n",
    "    B = np.array([Bx, By, Bz]);\n",
    "    return B"
   ]
  },
  {
   "cell_type": "code",
   "execution_count": 6,
   "metadata": {},
   "outputs": [
    {
     "data": {
      "text/plain": [
       "array([ 0.00000000e+00,  0.00000000e+00, -1.55555556e-08])"
      ]
     },
     "execution_count": 6,
     "metadata": {},
     "output_type": "execute_result"
    }
   ],
   "source": [
    "dip_field([30, 0, 0], R0, b_eq)"
   ]
  },
  {
   "cell_type": "markdown",
   "metadata": {},
   "source": [
    "### Magnetodisk field"
   ]
  },
  {
   "cell_type": "code",
   "execution_count": 7,
   "metadata": {},
   "outputs": [],
   "source": [
    "def gen_a2k(kmax):\n",
    "    # Coefficients a_2k\n",
    "\n",
    "    a2kArr = np.zeros(kmax + 1);\n",
    "    a2kArr[0] = 1\n",
    "    if kmax > 0:\n",
    "        for j in range(1, kmax + 1):\n",
    "            a2kArr[j] = -a2kArr[j-1] * (2 * j - 1) / (2 * j)\n",
    "    return a2kArr"
   ]
  },
  {
   "cell_type": "code",
   "execution_count": 8,
   "metadata": {},
   "outputs": [
    {
     "name": "stdout",
     "output_type": "stream",
     "text": [
      "[ 1.         -0.5         0.375      -0.3125      0.2734375  -0.24609375\n",
      "  0.22558594 -0.20947266  0.19638062 -0.18547058  0.17619705 -0.1681881\n",
      "  0.16118026 -0.15498102  0.14944598 -0.14446445  0.13994993 -0.13583376\n",
      "  0.1320606  -0.12858532  0.12537069]\n"
     ]
    }
   ],
   "source": [
    "a2kArr = gen_a2k(kmax)\n",
    "print(a2kArr)"
   ]
  },
  {
   "cell_type": "code",
   "execution_count": 9,
   "metadata": {},
   "outputs": [],
   "source": [
    "def ser_field_uni_signum1(r, pwr, RD1, RD2, BDC, kmax, a2kArr, sign_correction):\n",
    "    # Magnetodisk field: calculation through series for j~1/r^pwr\n",
    "    # r - 1D-vector: (x,y,z)-coordinates\n",
    "    # pwr - scalar: inverse power\n",
    "    # RD1 - scalar: outer disk edge\n",
    "    # RD2 - scalar: inner disk edge\n",
    "    # kmax - scalar: sum number\n",
    "    # a2kVec - 1D-vector: coefficients\n",
    "    # sign_correction - scalar: correction for th extremely close to pi/2\n",
    "    \n",
    "    p = pwr #for brevity\n",
    "    tau0 = RD2 / RD1\n",
    "    BMDr = 0 # r-component of magnetodisk field in spherical coordinates\n",
    "    BMDth = 0 # theta-component of magnetodisk field in spherical coordinates\n",
    "    rr = sqrt(r[0] * r[0] + r[1] * r[1] + r[2] * r[2]) # |r|\n",
    "    th = acos(r[2] / rr)\n",
    "    tau = rr / RD1\n",
    "    xi = cos(th)\n",
    "    eta = sin(th)\n",
    "    xiArr = np.zeros(2 * kmax + 2)\n",
    "    xiArr[0] = 1\n",
    "    xiArr[1] = xi\n",
    "    for j in range(1, 2 * kmax):\n",
    "        xiArr[j] = xi * xiArr[j]\n",
    "    for k in range(kmax + 1):\n",
    "        if p >= 3 and 2 * k == p - 3:\n",
    "            specodd = True # odd special case: p=3, 5, 7,...\n",
    "        else:\n",
    "            specodd = False\n",
    "        if p <= 0 and 2 * k == -p:\n",
    "            speceven = True # even special case: p=0,-2,-4,...\n",
    "        else:\n",
    "            speceven = False\n",
    "        a2k = a2kArr[k]\n",
    "        allmlegendre = lpmn(1, 2*k+1, xi) # assosiated Legendre functions for all m\n",
    "        P2kp1 = allmlegendre[0][0][-1] # equiv. alternative: P2kp1 = legendre(2*k+1)(xi)\n",
    "        Q2kp1 = -allmlegendre[0][1][-1]\n",
    "        # print(P2kp1)\n",
    "        # print(Q2kp1)\n",
    "        if rr <= RD2:\n",
    "            if speceven:\n",
    "                BMDr = BMDr - BDC * (2 * k + 1) * a2k * P2kp1 * log(tau0) / tau**p;\n",
    "                BMDth = BMDth + BDC * a2k * Q2kp1 * log(tau0) / tau**p;\n",
    "            else:\n",
    "                BMDr = BMDr + BDC * (2 * k + 1) * a2k * P2kp1 * \\\n",
    "                    tau**(2 * k) * (1 / tau0**(2 * k + p) - 1)/(2 * k + p);\n",
    "                BMDth = BMDth - BDC * (a2k * Q2kp1 / (2 * k + p)) * \\\n",
    "                    (1 / tau0**(2 * k + p) - 1) * tau**(2 * k)\n",
    "        elif rr > RD2 and rr < RD1:\n",
    "            if (not specodd) and (not speceven):\n",
    "                psingBMDr = (BDC / tau**p) * \\\n",
    "                    (p - 1)**2 * (p - 2)**2 * a2k * P2kp1 * (4 * k + 3) / \\\n",
    "                    ((2 * k + 1) * (2 * k + 2)**2 * (2 * k + p) * (2 * k - p + 3)) # singular part-1\n",
    "                BMDr = BMDr + psingBMDr + BDC * (2 * k + 1) * a2k * P2kp1 * \\\n",
    "                    (-tau**(2 * k) / (2 * k + p) - \\\n",
    "                    tau0**(2 * k - p + 3) / ((2 * k - p + 3) * tau**(2 * k + 3)))\n",
    "                if p != 2:\n",
    "                    psingBMDth = (BDC * (p - 2) / tau**p) * \\\n",
    "                        (p - 1) * (p - 2) * a2k * Q2kp1 * (4 * k + 3) / \\\n",
    "                        ((2 * k + 1) * (2 * k + 2)**2 * (2 * k + p) * (2 * k - p + 3)) # singular part-1\n",
    "                    BMDth = BMDth + psingBMDth + BDC * (a2k * Q2kp1 / (2 * k + 2)) * \\\n",
    "                        ((2 * k + 2) * tau**(2 * k) / (2 * k + p) - \\\n",
    "                        (2 * k + 1) * tau0**(2 * k - p + 3) / \\\n",
    "                            ((2 * k - p + 3) * tau**(2 * k + 3)))\n",
    "                else:\n",
    "                    BMDth = BMDth + \\\n",
    "                        BDC * (a2k * Q2kp1 / (2 * k + 2)) * (tau**(2 * k) - \\\n",
    "                            tau0**(2 * k + 1) / tau**(2 * k + 3))\n",
    "            elif specodd:\n",
    "                msingBMDr = (BDC / tau**p) * \\\n",
    "                    a2k * P2kp1 * (4 * k + 3) / (2 * k + 2) * \\\n",
    "                    (1 + (p - 1) * (p - 2)* log(1 + abs(xi))) # minus singular part-0\n",
    "                msingBMDth = (BDC * (p - 2) / tau**p) * \\\n",
    "                    a2k * Q2kp1 * (4 * k + 3) / ((2 * k + 1) * (2 * k + 2)**2) # minus singular part-0\n",
    "                BMDr = BMDr - msingBMDr + BDC * (2 * k + 1) * a2k * P2kp1 * \\\n",
    "                    ((log(tau / tau0) + 1 / (2 * k + p)) / tau**p - \\\n",
    "                    tau**(2 * k) / (2 * k + p))\n",
    "                BMDth = BMDth - msingBMDth + BDC * (a2k * Q2kp1 / (2 * k + 2)) * \\\n",
    "                    (((p - 2) * (log(tau / tau0) + 1 / (2 * k + p)) - 1) / tau**p + \\\n",
    "                    (2 * k + 2) * tau**(2 * k) / (2 * k + p))\n",
    "            elif speceven:\n",
    "                msingBMDr = (BDC / tau**p) * \\\n",
    "                    a2k * P2kp1 * (4 * k + 3) / (2 * k + 2) * \\\n",
    "                    (1 + (p - 1) * (p - 2) * log(1 + abs(xi))) # minus singular part-0\n",
    "                msingBMDth = (BDC * (p - 2) / tau**p) * \\\n",
    "                    a2k * Q2kp1 * (4 * k + 3) / ((2 * k + 1) * (2 * k + 2)**2) # minus singular part-0\n",
    "                BMDr = BMDr - msingBMDr + BDC * (2 * k + 1) * a2k * P2kp1 * \\\n",
    "                    ((1 / (2 * k - p + 3) - log(tau)) / tau**p - \\\n",
    "                    tau0**(2 * k - p + 3) / ((2 * k - p + 3) * tau**(2 * k + 3)))\n",
    "                BMDth = BMDth - msingBMDth + BDC * (a2k * Q2kp1 /(2 * k + 2)) * \\\n",
    "                    (((p - 2) * (1 / (2 * k - p + 3) - log(tau)) + 1) / tau**p - \\\n",
    "                    (2 * k + 1) * tau0**(2 * k - p + 3) / \\\n",
    "                        ((2 * k - p + 3) * tau**(2 * k + 3)))\n",
    "        elif rr >= RD1:\n",
    "            if specodd:\n",
    "                BMDr = BMDr - BDC * (2 * k + 1) * a2k * P2kp1 * log(tau0) / tau**p\n",
    "                BMDth = BMDth - \\\n",
    "                    BDC * (a2k * Q2kp1 / (2 * k + 2)) * (2 * k + 1) * \\\n",
    "                    log(tau0) / tau**p\n",
    "            else:\n",
    "                BMDr = BMDr + BDC * (2 * k + 1) * a2k * P2kp1 * \\\n",
    "                    (1 - tau0**(2 * k - p + 3)) / \\\n",
    "                        ((2 * k - p + 3) * tau**(2 * k + 3));\n",
    "                BMDth = BMDth + BDC * (a2k * Q2kp1 / (2 * k + 2)) * \\\n",
    "                    (2 * k + 1) * (1 - tau0**(2 * k - p + 3)) / \\\n",
    "                        ((2 * k - p + 3) * tau**(2 * k + 3))\n",
    "    if rr > RD2 and rr < RD1:\n",
    "        BMDr = BMDr + (BDC / tau**p) * np.sign(xi) * \\\n",
    "            (1 + (p - 1) * (p - 2) * log(1 + abs(xi))) # singular part-0\n",
    "        if p != 2:\n",
    "            BMDth = BMDth + (BDC * (p - 2) / tau**p) * \\\n",
    "                (1 - abs(xi)) / eta # singular part-0\n",
    "    # Magnetic field vector in spherical coordinates\n",
    "    spherB = np.array([BMDr, BMDth, 0])\n",
    "    # Correction\n",
    "    if sign_correction < 0 and th == math.pi / 2:\n",
    "        spherB = spherB * np.array([-1, 1, 1])\n",
    "    # Spherical --> Cartesian\n",
    "    if r[1] >= 0:\n",
    "        phi = acos(r[0] / sqrt(r[0] * r[0] + r[1] * r[1]))\n",
    "    else:\n",
    "        phi = 2 * pi - acos(r[0] / sqrt(r[0] * r[0] + r[1] * r[1]))\n",
    "    Spher2decMat = np.array([[sin(th) * cos(phi), cos(th) * cos(phi), -sin(phi)],\n",
    "                [sin(th) * sin(phi), cos(th) * sin(phi), cos(phi)],\n",
    "                [cos(th), -sin(th), 0]])\n",
    "    B = np.dot(Spher2decMat, spherB)\n",
    "    return B"
   ]
  },
  {
   "cell_type": "code",
   "execution_count": 10,
   "metadata": {},
   "outputs": [
    {
     "name": "stdout",
     "output_type": "stream",
     "text": [
      "[ 2.35469026e-08  0.00000000e+00 -8.28562966e-09]\n"
     ]
    }
   ],
   "source": [
    "r = [30, 0, 1e-7]\n",
    "B = dip_field(r, R0, b_eq) + ser_field_uni_signum1(r, pwr, RD1, RD2, BDC, kmax, a2kArr, sign_correction)\n",
    "print(B)"
   ]
  },
  {
   "cell_type": "markdown",
   "metadata": {},
   "source": [
    "## Samples"
   ]
  },
  {
   "cell_type": "markdown",
   "metadata": {},
   "source": [
    "### rr > RD2 and rr < RD1"
   ]
  },
  {
   "cell_type": "markdown",
   "metadata": {},
   "source": [
    "[Alexeev and Belenkaya, 2005]:"
   ]
  },
  {
   "cell_type": "code",
   "execution_count": 11,
   "metadata": {},
   "outputs": [
    {
     "data": {
      "text/plain": [
       "array([2.35469024e-08, 0.00000000e+00, 7.26992589e-09])"
      ]
     },
     "execution_count": 11,
     "metadata": {},
     "output_type": "execute_result"
    }
   ],
   "source": [
    "ser_field_uni_signum1([30, 0, 1e-7], pwr, RD1, RD2, BDC, kmax, a2kArr, 1)"
   ]
  },
  {
   "cell_type": "code",
   "execution_count": 12,
   "metadata": {},
   "outputs": [
    {
     "name": "stdout",
     "output_type": "stream",
     "text": [
      "[2.50000000e-09 0.00000000e+00 3.79458711e-09]\n",
      "[7.67249996e-09 0.00000000e+00 6.03261701e-09]\n",
      "[2.35337039e-08 0.00000000e+00 7.27066632e-09]\n",
      "[ 7.22654440e-08  0.00000000e+00 -4.74515974e-09]\n"
     ]
    }
   ],
   "source": [
    "print(ser_field_uni_signum1([30, 0, 1e-7], 0, RD1, RD2, BDC, kmax, a2kArr, 1))\n",
    "print(ser_field_uni_signum1([30, 0, 1e-7], 1, RD1, RD2, BDC, kmax, a2kArr, 1))\n",
    "print(ser_field_uni_signum1([30, 0, 1e-7], 1.9995, RD1, RD2, BDC, kmax, a2kArr, 1))\n",
    "print(ser_field_uni_signum1([30, 0, 1e-7], 3, RD1, RD2, BDC, kmax, a2kArr, 1))"
   ]
  },
  {
   "cell_type": "markdown",
   "metadata": {},
   "source": [
    "### rr <= RD2"
   ]
  },
  {
   "cell_type": "markdown",
   "metadata": {},
   "source": [
    "[Alexeev and Belenkaya, 2005]:"
   ]
  },
  {
   "cell_type": "code",
   "execution_count": 13,
   "metadata": {},
   "outputs": [
    {
     "data": {
      "text/plain": [
       "array([1.06770674e-16, 0.00000000e+00, 3.43289288e-08])"
      ]
     },
     "execution_count": 13,
     "metadata": {},
     "output_type": "execute_result"
    }
   ],
   "source": [
    "ser_field_uni_signum1([10, 0, 1e-7], pwr, RD1, RD2, BDC, kmax, a2kArr, 1)"
   ]
  },
  {
   "cell_type": "code",
   "execution_count": 14,
   "metadata": {},
   "outputs": [
    {
     "name": "stdout",
     "output_type": "stream",
     "text": [
      "[7.46948285e-18 0.00000000e+00 4.33905955e-09]\n",
      "[2.71648375e-17 0.00000000e+00 1.11201610e-08]\n",
      "[1.06696124e-16 0.00000000e+00 3.43082950e-08]\n",
      "[4.40875523e-16 0.00000000e+00 1.20995984e-07]\n"
     ]
    }
   ],
   "source": [
    "print(ser_field_uni_signum1([10, 0, 1e-7], 0, RD1, RD2, BDC, kmax, a2kArr, 1))\n",
    "print(ser_field_uni_signum1([10, 0, 1e-7], 1, RD1, RD2, BDC, kmax, a2kArr, 1))\n",
    "print(ser_field_uni_signum1([10, 0, 1e-7], 1.9995, RD1, RD2, BDC, kmax, a2kArr, 1))\n",
    "print(ser_field_uni_signum1([10, 0, 1e-7], 3, RD1, RD2, BDC, kmax, a2kArr, 1))"
   ]
  },
  {
   "cell_type": "markdown",
   "metadata": {},
   "source": [
    "### rr >= RD1"
   ]
  },
  {
   "cell_type": "markdown",
   "metadata": {},
   "source": [
    "[Alexeev and Belenkaya, 2005]:"
   ]
  },
  {
   "cell_type": "code",
   "execution_count": 15,
   "metadata": {},
   "outputs": [
    {
     "data": {
      "text/plain": [
       "array([ 1.01231425e-17,  5.06157127e-19, -1.59735670e-09])"
      ]
     },
     "execution_count": 15,
     "metadata": {},
     "output_type": "execute_result"
    }
   ],
   "source": [
    "ser_field_uni_signum1([100, 5, 1e-7], 2, RD1, RD2, BDC, kmax, a2kArr, 1)"
   ]
  },
  {
   "cell_type": "code",
   "execution_count": 16,
   "metadata": {},
   "outputs": [
    {
     "name": "stdout",
     "output_type": "stream",
     "text": [
      "[ 7.12973779e-18  3.56486890e-19 -9.18041078e-10]\n",
      "[ 8.24828829e-18  4.12414415e-19 -1.15363065e-09]\n",
      "[ 1.01218805e-17  5.06094027e-19 -1.59704214e-09]\n",
      "[ 1.39146412e-17  6.95732058e-19 -2.60133721e-09]\n"
     ]
    }
   ],
   "source": [
    "print(ser_field_uni_signum1([100, 5, 1e-7], 0, RD1, RD2, BDC, kmax, a2kArr, 1))\n",
    "print(ser_field_uni_signum1([100, 5, 1e-7], 1, RD1, RD2, BDC, kmax, a2kArr, 1))\n",
    "print(ser_field_uni_signum1([100, 5, 1e-7], 1.9995, RD1, RD2, BDC, kmax, a2kArr, 1))\n",
    "print(ser_field_uni_signum1([100, 5, 1e-7], 3, RD1, RD2, BDC, kmax, a2kArr, 1))"
   ]
  }
 ],
 "metadata": {
  "kernelspec": {
   "display_name": "Python 3",
   "language": "python",
   "name": "python3"
  },
  "language_info": {
   "codemirror_mode": {
    "name": "ipython",
    "version": 3
   },
   "file_extension": ".py",
   "mimetype": "text/x-python",
   "name": "python",
   "nbconvert_exporter": "python",
   "pygments_lexer": "ipython3",
   "version": "3.8.3"
  }
 },
 "nbformat": 4,
 "nbformat_minor": 4
}
