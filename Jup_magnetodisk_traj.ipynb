{
 "cells": [
  {
   "cell_type": "markdown",
   "metadata": {},
   "source": [
    "### Import"
   ]
  },
  {
   "cell_type": "markdown",
   "metadata": {},
   "source": [
    "For magnetic field calculation:"
   ]
  },
  {
   "cell_type": "code",
   "execution_count": 1,
   "metadata": {},
   "outputs": [],
   "source": [
    "import numpy as np\n",
    "import pandas as pd\n",
    "\n",
    "from math import *\n",
    "from scipy.special import lpmn\n",
    "# from scipy.special import legendre\n",
    "\n",
    "# import seaborn as sns\n",
    "# import matplotlib.pyplot as plt\n",
    "# %matplotlib inline"
   ]
  },
  {
   "cell_type": "markdown",
   "metadata": {},
   "source": [
    "For field line integration:"
   ]
  },
  {
   "cell_type": "code",
   "execution_count": 2,
   "metadata": {},
   "outputs": [],
   "source": [
    "from scipy.integrate import odeint"
   ]
  },
  {
   "cell_type": "markdown",
   "metadata": {},
   "source": [
    "## Input"
   ]
  },
  {
   "cell_type": "markdown",
   "metadata": {},
   "source": [
    "Point in space (coordinates in planet radius R0):"
   ]
  },
  {
   "cell_type": "code",
   "execution_count": 3,
   "metadata": {},
   "outputs": [],
   "source": [
    "r = [30, 0, 1e-7]"
   ]
  },
  {
   "cell_type": "markdown",
   "metadata": {},
   "source": [
    "Jupiter dipole parameters:"
   ]
  },
  {
   "cell_type": "code",
   "execution_count": 4,
   "metadata": {},
   "outputs": [],
   "source": [
    "R0 = 7.1492e7 #m, Jupiter radius\n",
    "b_eq = -4.2e5 #nT, field on planet equator"
   ]
  },
  {
   "cell_type": "markdown",
   "metadata": {},
   "source": [
    "Jupiter magnetodisk parameters:"
   ]
  },
  {
   "cell_type": "code",
   "execution_count": 5,
   "metadata": {},
   "outputs": [],
   "source": [
    "kmax = 20 # 20, series length\n",
    "pwr = 2 # 1/r^pwr magnetodisk, pwr=2 for [Alexeev and Belenkaya, 2005]\n",
    "BDC = 2.5e-9 # 2.5e-9 for [Alexeev and Belenkaya, 2005], magnetic field on edge RD1\n",
    "RD2 = 18.4 # 18.4 for [Alexeev and Belenkaya, 2005], disk inner edge\n",
    "RD1 = 92.07 # 92.07 for [Alexeev and Belenkaya, 2005], disk outer edge"
   ]
  },
  {
   "cell_type": "markdown",
   "metadata": {},
   "source": [
    "Possible correction for theta in case it is extremely close to pi/2:"
   ]
  },
  {
   "cell_type": "code",
   "execution_count": 6,
   "metadata": {},
   "outputs": [],
   "source": [
    "sign_correction = 1 # 1 or -1"
   ]
  },
  {
   "cell_type": "markdown",
   "metadata": {},
   "source": [
    "## Calculation"
   ]
  },
  {
   "cell_type": "markdown",
   "metadata": {},
   "source": [
    "### Dipole field"
   ]
  },
  {
   "cell_type": "code",
   "execution_count": 7,
   "metadata": {
    "scrolled": true
   },
   "outputs": [],
   "source": [
    "def dip_field(r, R0, b_eq):\n",
    "    # Planet dipole field calculation\n",
    "    # INPUT:\n",
    "    #   r [R0] - 1D-vector, length=3: (x,y,z)-coordinates of point in space\n",
    "    #   R0 [m] - scalar: planet radius\n",
    "    #   b_eq [nT] - scalar: magnetic on planet equator\n",
    "    # OUTPUT:\n",
    "    #   B [T] - 1D-vector, length=3: magnetic field\n",
    "    \n",
    "    r = R0 * np.array(r)\n",
    "    M0 = -0.01 * b_eq * R0**3 # planet dipole magnetic moment (SI units, A*m^2)\n",
    "    Mcoef = 1e-7 * M0;\n",
    "    # rr = sqrt(r[0] * r[0] + r[1] * r[1] + r[2] * r[2])\n",
    "    rr = np.linalg.norm(r) # |r|\n",
    "    Bx = 3 * Mcoef * r[0] * r[2] / rr**5\n",
    "    By = 3 * Mcoef * r[1] * r[2] / rr**5\n",
    "    Bz = Mcoef * (3 * r[2] * r[2] - rr**2) / rr**5\n",
    "    B = np.array([Bx, By, Bz]);\n",
    "    return B"
   ]
  },
  {
   "cell_type": "markdown",
   "metadata": {},
   "source": [
    "### Magnetodisk field"
   ]
  },
  {
   "cell_type": "markdown",
   "metadata": {},
   "source": [
    "Coefficients:"
   ]
  },
  {
   "cell_type": "code",
   "execution_count": 8,
   "metadata": {},
   "outputs": [],
   "source": [
    "def gen_a2k(kmax):\n",
    "    # Coefficients a_2k\n",
    "\n",
    "    a2kArr = np.zeros(kmax + 1);\n",
    "    a2kArr[0] = 1\n",
    "    if kmax > 0:\n",
    "        for j in range(1, kmax + 1):\n",
    "            a2kArr[j] = -a2kArr[j-1] * (2 * j - 1) / (2 * j)\n",
    "    return a2kArr"
   ]
  },
  {
   "cell_type": "code",
   "execution_count": 9,
   "metadata": {},
   "outputs": [],
   "source": [
    "a2kArr = gen_a2k(kmax)"
   ]
  },
  {
   "cell_type": "markdown",
   "metadata": {},
   "source": [
    "Magnetodisk field calculation:"
   ]
  },
  {
   "cell_type": "code",
   "execution_count": 10,
   "metadata": {},
   "outputs": [],
   "source": [
    "def uni_signum_series_field(r, pwr, RD1, RD2, BDC, kmax, a2kArr, sign_correction):\n",
    "    # Magnetodisk field: calculation through series for j~1/r^pwr\n",
    "    # r - 1D-vector: (x,y,z)-coordinates\n",
    "    # pwr - scalar: inverse power\n",
    "    # RD1 - scalar: outer disk edge\n",
    "    # RD2 - scalar: inner disk edge\n",
    "    # kmax - scalar: sum number\n",
    "    # a2kVec - 1D-vector: coefficients\n",
    "    # sign_correction - scalar: correction for theta in case it is extremely close to pi/2\n",
    "    \n",
    "    p = pwr #for brevity\n",
    "    tau0 = RD2 / RD1\n",
    "    BMDr = 0 # r-component of magnetodisk field in spherical coordinates\n",
    "    BMDth = 0 # theta-component of magnetodisk field in spherical coordinates\n",
    "    # rr = sqrt(r[0] * r[0] + r[1] * r[1] + r[2] * r[2])\n",
    "    rr = np.linalg.norm(r) # |r|\n",
    "    th = acos(r[2] / rr)\n",
    "    tau = rr / RD1\n",
    "    xi = cos(th)\n",
    "    eta = sin(th)\n",
    "    xiArr = np.zeros(2 * kmax + 2)\n",
    "    xiArr[0] = 1\n",
    "    xiArr[1] = xi\n",
    "    for j in range(1, 2 * kmax):\n",
    "        xiArr[j] = xi * xiArr[j]\n",
    "    for k in range(kmax + 1):\n",
    "        if p >= 3 and 2 * k == p - 3:\n",
    "            specodd = True # odd special case: p=3, 5, 7,...\n",
    "        else:\n",
    "            specodd = False\n",
    "        if p <= 0 and 2 * k == -p:\n",
    "            speceven = True # even special case: p=0,-2,-4,...\n",
    "        else:\n",
    "            speceven = False\n",
    "        a2k = a2kArr[k]\n",
    "        allmlegendre = lpmn(1, 2*k+1, xi) # assosiated Legendre functions for all m\n",
    "        P2kp1 = allmlegendre[0][0][-1] # equiv. alternative: P2kp1 = legendre(2*k+1)(xi)\n",
    "        Q2kp1 = -allmlegendre[0][1][-1]\n",
    "        # print(P2kp1)\n",
    "        # print(Q2kp1)\n",
    "        if rr <= RD2:\n",
    "            if speceven:\n",
    "                BMDr = BMDr - BDC * (2 * k + 1) * a2k * P2kp1 * log(tau0) / tau**p;\n",
    "                BMDth = BMDth + BDC * a2k * Q2kp1 * log(tau0) / tau**p;\n",
    "            else:\n",
    "                BMDr = BMDr + BDC * (2 * k + 1) * a2k * P2kp1 * \\\n",
    "                    tau**(2 * k) * (1 / tau0**(2 * k + p) - 1)/(2 * k + p);\n",
    "                BMDth = BMDth - BDC * (a2k * Q2kp1 / (2 * k + p)) * \\\n",
    "                    (1 / tau0**(2 * k + p) - 1) * tau**(2 * k)\n",
    "        elif rr > RD2 and rr < RD1:\n",
    "            if (not specodd) and (not speceven):\n",
    "                psingBMDr = (BDC / tau**p) * \\\n",
    "                    (p - 1)**2 * (p - 2)**2 * a2k * P2kp1 * (4 * k + 3) / \\\n",
    "                    ((2 * k + 1) * (2 * k + 2)**2 * (2 * k + p) * (2 * k - p + 3)) # singular part-1\n",
    "                BMDr = BMDr + psingBMDr + BDC * (2 * k + 1) * a2k * P2kp1 * \\\n",
    "                    (-tau**(2 * k) / (2 * k + p) - \\\n",
    "                    tau0**(2 * k - p + 3) / ((2 * k - p + 3) * tau**(2 * k + 3)))\n",
    "                if p != 2:\n",
    "                    psingBMDth = (BDC * (p - 2) / tau**p) * \\\n",
    "                        (p - 1) * (p - 2) * a2k * Q2kp1 * (4 * k + 3) / \\\n",
    "                        ((2 * k + 1) * (2 * k + 2)**2 * (2 * k + p) * (2 * k - p + 3)) # singular part-1\n",
    "                    BMDth = BMDth + psingBMDth + BDC * (a2k * Q2kp1 / (2 * k + 2)) * \\\n",
    "                        ((2 * k + 2) * tau**(2 * k) / (2 * k + p) - \\\n",
    "                        (2 * k + 1) * tau0**(2 * k - p + 3) / \\\n",
    "                            ((2 * k - p + 3) * tau**(2 * k + 3)))\n",
    "                else:\n",
    "                    BMDth = BMDth + \\\n",
    "                        BDC * (a2k * Q2kp1 / (2 * k + 2)) * (tau**(2 * k) - \\\n",
    "                            tau0**(2 * k + 1) / tau**(2 * k + 3))\n",
    "            elif specodd:\n",
    "                msingBMDr = (BDC / tau**p) * \\\n",
    "                    a2k * P2kp1 * (4 * k + 3) / (2 * k + 2) * \\\n",
    "                    (1 + (p - 1) * (p - 2)* log(1 + abs(xi))) # minus singular part-0\n",
    "                msingBMDth = (BDC * (p - 2) / tau**p) * \\\n",
    "                    a2k * Q2kp1 * (4 * k + 3) / ((2 * k + 1) * (2 * k + 2)**2) # minus singular part-0\n",
    "                BMDr = BMDr - msingBMDr + BDC * (2 * k + 1) * a2k * P2kp1 * \\\n",
    "                    ((log(tau / tau0) + 1 / (2 * k + p)) / tau**p - \\\n",
    "                    tau**(2 * k) / (2 * k + p))\n",
    "                BMDth = BMDth - msingBMDth + BDC * (a2k * Q2kp1 / (2 * k + 2)) * \\\n",
    "                    (((p - 2) * (log(tau / tau0) + 1 / (2 * k + p)) - 1) / tau**p + \\\n",
    "                    (2 * k + 2) * tau**(2 * k) / (2 * k + p))\n",
    "            elif speceven:\n",
    "                msingBMDr = (BDC / tau**p) * \\\n",
    "                    a2k * P2kp1 * (4 * k + 3) / (2 * k + 2) * \\\n",
    "                    (1 + (p - 1) * (p - 2) * log(1 + abs(xi))) # minus singular part-0\n",
    "                msingBMDth = (BDC * (p - 2) / tau**p) * \\\n",
    "                    a2k * Q2kp1 * (4 * k + 3) / ((2 * k + 1) * (2 * k + 2)**2) # minus singular part-0\n",
    "                BMDr = BMDr - msingBMDr + BDC * (2 * k + 1) * a2k * P2kp1 * \\\n",
    "                    ((1 / (2 * k - p + 3) - log(tau)) / tau**p - \\\n",
    "                    tau0**(2 * k - p + 3) / ((2 * k - p + 3) * tau**(2 * k + 3)))\n",
    "                BMDth = BMDth - msingBMDth + BDC * (a2k * Q2kp1 /(2 * k + 2)) * \\\n",
    "                    (((p - 2) * (1 / (2 * k - p + 3) - log(tau)) + 1) / tau**p - \\\n",
    "                    (2 * k + 1) * tau0**(2 * k - p + 3) / \\\n",
    "                        ((2 * k - p + 3) * tau**(2 * k + 3)))\n",
    "        elif rr >= RD1:\n",
    "            if specodd:\n",
    "                BMDr = BMDr - BDC * (2 * k + 1) * a2k * P2kp1 * log(tau0) / tau**p\n",
    "                BMDth = BMDth - \\\n",
    "                    BDC * (a2k * Q2kp1 / (2 * k + 2)) * (2 * k + 1) * \\\n",
    "                    log(tau0) / tau**p\n",
    "            else:\n",
    "                BMDr = BMDr + BDC * (2 * k + 1) * a2k * P2kp1 * \\\n",
    "                    (1 - tau0**(2 * k - p + 3)) / \\\n",
    "                        ((2 * k - p + 3) * tau**(2 * k + 3));\n",
    "                BMDth = BMDth + BDC * (a2k * Q2kp1 / (2 * k + 2)) * \\\n",
    "                    (2 * k + 1) * (1 - tau0**(2 * k - p + 3)) / \\\n",
    "                        ((2 * k - p + 3) * tau**(2 * k + 3))\n",
    "    if rr > RD2 and rr < RD1:\n",
    "        BMDr = BMDr + (BDC / tau**p) * np.sign(xi) * \\\n",
    "            (1 + (p - 1) * (p - 2) * log(1 + abs(xi))) # singular part-0\n",
    "        if p != 2:\n",
    "            BMDth = BMDth + (BDC * (p - 2) / tau**p) * \\\n",
    "                (1 - abs(xi)) / eta # singular part-0\n",
    "    # Magnetic field vector in spherical coordinates\n",
    "    spherB = np.array([BMDr, BMDth, 0])\n",
    "    # Correction\n",
    "    if sign_correction < 0 and th == math.pi / 2:\n",
    "        spherB = spherB * np.array([-1, 1, 1])\n",
    "    # Spherical --> Cartesian\n",
    "    if r[1] >= 0:\n",
    "        phi = acos(r[0] / sqrt(r[0] * r[0] + r[1] * r[1]))\n",
    "    else:\n",
    "        phi = 2 * pi - acos(r[0] / sqrt(r[0] * r[0] + r[1] * r[1]))\n",
    "    Spher2decMat = np.array([[sin(th) * cos(phi), cos(th) * cos(phi), -sin(phi)],\n",
    "                [sin(th) * sin(phi), cos(th) * sin(phi), cos(phi)],\n",
    "                [cos(th), -sin(th), 0]])\n",
    "    B = np.dot(Spher2decMat, spherB)\n",
    "    return B"
   ]
  },
  {
   "cell_type": "markdown",
   "metadata": {},
   "source": [
    "### Total magnetic field"
   ]
  },
  {
   "cell_type": "markdown",
   "metadata": {},
   "source": [
    "Dipole field + magnetodisk field:"
   ]
  },
  {
   "cell_type": "code",
   "execution_count": 11,
   "metadata": {},
   "outputs": [],
   "source": [
    "def sum_field(r, pwr, R0, b_eq, RD1, RD2, BDC, kmax, a2kArr, sign_correction):\n",
    "    B = dip_field(r, R0, b_eq) + uni_signum_series_field(r, pwr, RD1, RD2, BDC, kmax, a2kArr, sign_correction)\n",
    "    return B"
   ]
  },
  {
   "cell_type": "code",
   "execution_count": 12,
   "metadata": {},
   "outputs": [
    {
     "name": "stdout",
     "output_type": "stream",
     "text": [
      "[ 2.35469026e-08  0.00000000e+00 -8.28562966e-09]\n"
     ]
    }
   ],
   "source": [
    "B = sum_field(r, pwr, R0, b_eq, RD1, RD2, BDC, kmax, a2kArr, sign_correction)\n",
    "print(B)"
   ]
  },
  {
   "cell_type": "markdown",
   "metadata": {},
   "source": [
    "## Magnetic field line integration"
   ]
  },
  {
   "cell_type": "markdown",
   "metadata": {},
   "source": [
    "Constants:"
   ]
  },
  {
   "cell_type": "code",
   "execution_count": 13,
   "metadata": {},
   "outputs": [],
   "source": [
    "c = 299792458 # speed of light\n",
    "abs_e = 1.6021766208 * 1e-19 # abs. value of electron charge\n",
    "Z = 1 # particle charge q=Z*abs_e\n",
    "m = 1.6726219e-27 #proton mass"
   ]
  },
  {
   "cell_type": "markdown",
   "metadata": {},
   "source": [
    "Particle parameters:"
   ]
  },
  {
   "cell_type": "code",
   "execution_count": 14,
   "metadata": {},
   "outputs": [],
   "source": [
    "K_eV = 1e4\n",
    "q = Z * abs_e # particle charge\n",
    "tfin = 15"
   ]
  },
  {
   "cell_type": "markdown",
   "metadata": {},
   "source": [
    "Simulation accuracy:"
   ]
  },
  {
   "cell_type": "code",
   "execution_count": 15,
   "metadata": {},
   "outputs": [],
   "source": [
    "stepnum = 1000 # step number, must be integer\n",
    "accur = 1e-10 # rtol, atol"
   ]
  },
  {
   "cell_type": "markdown",
   "metadata": {},
   "source": [
    "Momentum and velocity:"
   ]
  },
  {
   "cell_type": "code",
   "execution_count": 16,
   "metadata": {},
   "outputs": [],
   "source": [
    "p = abs_e * sqrt(K_eV * K_eV + 2 * K_eV * 938.272e6) / 2.99792e8 # |p|, momentum modulus (SI units)\n",
    "# v = p / m # |v|, classical velocity modulus\n",
    "v = p / sqrt(m**2 + (p/c)**2) #|v|, relativistic velocity modulus (SI units)"
   ]
  },
  {
   "cell_type": "code",
   "execution_count": 17,
   "metadata": {},
   "outputs": [],
   "source": [
    "def lor_uni(y, t, q, m, pwr, R0, b_eq, RD1, RD2, BDC, kmax, a2kArr, sign_correction):\n",
    "    # Lorentz' force: dv/dt=q[v,B]/m\n",
    "    # y[0] = vx\n",
    "    # y[1] = vy\n",
    "    # y[2] = vz\n",
    "    # y[3] = x\n",
    "    # y[4] = y\n",
    "    # y[5] = z\n",
    "    \n",
    "    r = y[3:6] / R0\n",
    "    B = dip_field(r, R0, b_eq) + uni_signum_series_field(r, pwr, RD1, RD2, BDC, kmax,\n",
    "                                                         a2kArr, sign_correction) # call function\n",
    "    # print(B)\n",
    "    dydt = [(q / m) * (y[1] * B[2] - y[2] * B[1]),\n",
    "            (q / m) * (y[2] * B[0] - y[0] * B[2]),\n",
    "            (q / m) * (y[0] * B[1] - y[1] * B[0]),\n",
    "            y[0],\n",
    "            y[1],\n",
    "            y[2]]\n",
    "    return dydt"
   ]
  },
  {
   "cell_type": "markdown",
   "metadata": {},
   "source": [
    "STUB:"
   ]
  },
  {
   "cell_type": "code",
   "execution_count": 18,
   "metadata": {},
   "outputs": [],
   "source": [
    "rho_from_Jup = 30\n",
    "z0 = 1\n",
    "alpha0_grad = 10 # initial pitch-angle\n",
    "varphi_grad = 0\n",
    "psi_gradArr = np.arange(0, 259, 30)"
   ]
  },
  {
   "cell_type": "code",
   "execution_count": 19,
   "metadata": {},
   "outputs": [],
   "source": [
    "varphi = varphi_grad * pi / 180 # azimuthal angle of center\n",
    "alpha0 = alpha0_grad * pi / 180"
   ]
  },
  {
   "cell_type": "code",
   "execution_count": 20,
   "metadata": {},
   "outputs": [],
   "source": [
    "B_up_axis = dip_field([rho_from_Jup, 0, 1e-7], R0, b_eq) + uni_signum_series_field([rho_from_Jup, 0, 1e-7], pwr,\n",
    "                                                                                   RD1, RD2, BDC, kmax, a2kArr,\n",
    "                                                                                   1) # call function\n",
    "nBua = np.linalg.norm(B_up_axis)\n",
    "larm_rad_full = m * v / (R0 * q * nBua) # Larmour radius under central point\n",
    "larm_rad_real = larm_rad_full * sin(alpha0) # Larmour radius on spiral"
   ]
  },
  {
   "cell_type": "code",
   "execution_count": 21,
   "metadata": {},
   "outputs": [
    {
     "name": "stdout",
     "output_type": "stream",
     "text": [
      "[30.00041738  0.          1.00134262]\n",
      "[1301630.51291586  240347.00041226 -404639.37999076]\n",
      "[3.00003615e+01 7.03002536e-04 1.00116275e+00]\n",
      "[1265956.0928411   208146.6080804  -519395.66916099]\n",
      "[3.00002087e+01 1.21763611e-03 1.00067131e+00]\n",
      "[1239840.60481582  120173.50020613 -603403.10332167]\n",
      "[3.00000000e+01 1.40600507e-03 1.00000000e+00]\n",
      "[ 1.23028167e+06  1.47170092e-11 -6.34151958e+05]\n",
      "[2.99997913e+01 1.21763611e-03 9.99328688e-01]\n",
      "[1239840.60481582 -120173.50020613 -603403.10332167]\n",
      "[2.99996385e+01 7.03002536e-04 9.98837253e-01]\n",
      "[1265956.0928411  -208146.6080804  -519395.66916099]\n",
      "[2.99995826e+01 1.72185961e-19 9.98657375e-01]\n",
      "[1301630.51291586 -240347.00041226 -404639.37999076]\n",
      "[ 2.99996385e+01 -7.03002536e-04  9.98837253e-01]\n",
      "[1337304.93299061 -208146.6080804  -289883.09082053]\n",
      "[ 2.99997913e+01 -1.21763611e-03  9.99328688e-01]\n",
      "[1363420.42101589 -120173.50020613 -205875.65665985]\n"
     ]
    }
   ],
   "source": [
    "# For trajectories start points putting\n",
    "r0_cen = [rho_from_Jup * cos(varphi),\n",
    "          rho_from_Jup * sin(varphi),\n",
    "          z0] #coordinates of center of particles start point (in R0)\n",
    "B_start = dip_field(r0_cen, R0, b_eq) + uni_signum_series_field(r0_cen, pwr,\n",
    "                                                                RD1, RD2, BDC, kmax, a2kArr,\n",
    "                                                                np.sign(r0_cen[2])) # call function\n",
    "nBs = np.linalg.norm(B_start) # norm of B_start\n",
    "beta0 = -asin(B_start[2] / nBs) # angle of inclination for field line, ~20 grad\n",
    "beta0_grad = (180/pi) * beta0 # field lines inclination (grad)\n",
    "\n",
    "Matr = np.array([[sin(beta0), 0, -np.sign(r0_cen[2]) * cos(beta0)],\n",
    "                 [0, 1, 0],\n",
    "                 [np.sign(r0_cen[2]) * cos(beta0), 0, sin(beta0)]]) # for start points and velocities creation\n",
    "Matr1 = np.array([[cos(varphi), sin(varphi), 0],\n",
    "                  [-sin(varphi), cos(varphi), 0],\n",
    "                  [0, 0, 1]]) # for azimuthal rotation\n",
    "\n",
    "# I. TRAJECTORIES CALCULATION\n",
    "psiArr = (pi / 180) * psi_gradArr\n",
    "psilen = len(psiArr) # number of trajectories\n",
    "\n",
    "for pnum in range(psilen): # start point number\n",
    "    psi = psiArr[pnum] # trajectory's psi\n",
    "    # Put trajectory start point and velocity direction\n",
    "    startVec = np.array([[larm_rad_real * cos(psi)],\n",
    "                [larm_rad_real * sin(psi)],\n",
    "                [0]])\n",
    "    vVec = v * np.array([-sin(alpha0) * sin(psi),\n",
    "                         sin(alpha0) * cos(psi),\n",
    "                         -np.sign(r0_cen[2]) * cos(alpha0)])\n",
    "    tmp = np.array([[sqrt(r0_cen[0] * r0_cen[0] + r0_cen[1] * r0_cen[1])],\n",
    "            [0],\n",
    "            [r0_cen[2]]])            \n",
    "    r0 = np.dot(np.linalg.inv(Matr1), (tmp + np.dot(Matr, startVec))).T[0]\n",
    "    vVec_rotated = np.dot(np.linalg.inv(Matr1), np.dot(Matr, vVec))\n",
    "    print(r0)\n",
    "    print(vVec_rotated)\n",
    "    r0SI = R0 * r0\n",
    "    t_span = np.linspace(0, tfin, stepnum)\n",
    "    y0 = np.hstack([vVec_rotated, r0SI])\n",
    "    y = odeint(lor_uni, y0, t_span,\n",
    "               args=(q, m, pwr, R0, b_eq, RD1, RD2, BDC, kmax, a2kArr, sign_correction),\n",
    "               rtol=accur, atol=accur)"
   ]
  }
 ],
 "metadata": {
  "kernelspec": {
   "display_name": "Python 3",
   "language": "python",
   "name": "python3"
  },
  "language_info": {
   "codemirror_mode": {
    "name": "ipython",
    "version": 3
   },
   "file_extension": ".py",
   "mimetype": "text/x-python",
   "name": "python",
   "nbconvert_exporter": "python",
   "pygments_lexer": "ipython3",
   "version": "3.8.3"
  }
 },
 "nbformat": 4,
 "nbformat_minor": 4
}
